{
  "nbformat": 4,
  "nbformat_minor": 0,
  "metadata": {
    "colab": {
      "provenance": []
    },
    "kernelspec": {
      "name": "python3",
      "display_name": "Python 3"
    },
    "language_info": {
      "name": "python"
    }
  },
  "cells": [
    {
      "cell_type": "code",
      "execution_count": null,
      "metadata": {
        "colab": {
          "base_uri": "https://localhost:8080/"
        },
        "id": "9jmg6mJ8dyDC",
        "outputId": "410763ae-4356-4e70-f034-eb70d085dff2"
      },
      "outputs": [
        {
          "output_type": "stream",
          "name": "stdout",
          "text": [
            "Requirement already satisfied: pyspark in /usr/local/lib/python3.10/dist-packages (3.5.1)\n",
            "Requirement already satisfied: py4j==0.10.9.7 in /usr/local/lib/python3.10/dist-packages (from pyspark) (0.10.9.7)\n"
          ]
        }
      ],
      "source": [
        "!pip install pyspark"
      ]
    },
    {
      "cell_type": "code",
      "source": [
        "import numpy as np\n",
        "import pandas as pd\n",
        "\n",
        "import matplotlib.pyplot as plt\n",
        "\n",
        "from pyspark.ml.feature import VectorAssembler\n",
        "from pyspark.ml.regression import LinearRegression\n",
        "from pyspark.sql.functions import col\n",
        "\n",
        "from sklearn.preprocessing import MinMaxScaler"
      ],
      "metadata": {
        "id": "gweJ8MfUKHky"
      },
      "execution_count": null,
      "outputs": []
    },
    {
      "cell_type": "code",
      "source": [
        "#MACHINE LEARNING EXPLORATION\n",
        "house_df = pd.read_csv(\"/content/csvdata.csv\")"
      ],
      "metadata": {
        "id": "Q6IZy_2SKNZ4"
      },
      "execution_count": null,
      "outputs": []
    },
    {
      "cell_type": "code",
      "source": [
        "house_df.describe(\"Price\", \"Area\").show()"
      ],
      "metadata": {
        "colab": {
          "base_uri": "https://localhost:8080/"
        },
        "id": "pJgA90SD2An5",
        "outputId": "05663c59-a19e-47c4-ece4-1c4eabb312e2"
      },
      "execution_count": null,
      "outputs": [
        {
          "output_type": "stream",
          "name": "stdout",
          "text": [
            "+-------+--------------------+------------------+\n",
            "|summary|               Price|              Area|\n",
            "+-------+--------------------+------------------+\n",
            "|  count|               29135|             29135|\n",
            "|   mean|1.1952667000034323E7|1301.8164750300325|\n",
            "| stddev| 2.387646511511032E7| 767.8623393376763|\n",
            "|    min|             2000000|               200|\n",
            "|    max|           854599999|             16000|\n",
            "+-------+--------------------+------------------+\n",
            "\n"
          ]
        }
      ]
    },
    {
      "cell_type": "code",
      "source": [
        "house_df = house_df.rename(columns = {\"No. of Bedrooms\" : \"Bedrooms\"})"
      ],
      "metadata": {
        "id": "6A_TpL79LJ14"
      },
      "execution_count": null,
      "outputs": []
    },
    {
      "cell_type": "code",
      "source": [
        "city_dic = {}\n",
        "for i, city in enumerate(house_df[\"City\"].unique()):\n",
        "  city_dic[city] = i+1\n",
        "\n",
        "loc_dic = {}\n",
        "for i, loc in enumerate(house_df['Location'].unique()):\n",
        "  loc_dic[loc] = (i+1) * 0.001"
      ],
      "metadata": {
        "id": "M_3NKwMMKfDL"
      },
      "execution_count": null,
      "outputs": []
    },
    {
      "cell_type": "code",
      "source": [
        "house_df[\"City\"] = house_df[\"City\"].map(city_dic)\n",
        "house_df[\"Location\"] = house_df[\"Location\"].map(loc_dic)"
      ],
      "metadata": {
        "id": "7f-VHcLFKkXB"
      },
      "execution_count": null,
      "outputs": []
    },
    {
      "cell_type": "code",
      "source": [
        "from pyspark.sql import SparkSession\n",
        "\n",
        "spark = SparkSession.builder \\\n",
        "    .appName(\"House Price Analysis\") \\\n",
        "    .getOrCreate()\n",
        "\n",
        "house_df = spark.createDataFrame(house_df)\n",
        "\n",
        "house_df.createOrReplaceTempView(\"house_df\")"
      ],
      "metadata": {
        "id": "yTyXtI4kd9pY"
      },
      "execution_count": null,
      "outputs": []
    },
    {
      "cell_type": "code",
      "source": [
        "house_df.groupBy(\"Bedrooms\").agg({\"Price\": \"avg\"}).show()"
      ],
      "metadata": {
        "colab": {
          "base_uri": "https://localhost:8080/"
        },
        "id": "hO-xADhSeohh",
        "outputId": "f1e3468c-cec8-4e3d-ad11-6a3f9419fc54"
      },
      "execution_count": null,
      "outputs": [
        {
          "output_type": "stream",
          "name": "stdout",
          "text": [
            "+--------+--------------------+\n",
            "|Bedrooms|          avg(Price)|\n",
            "+--------+--------------------+\n",
            "|       7|          2.207575E7|\n",
            "|       6|4.0980645161290325E7|\n",
            "|       5|  5.92507178019802E7|\n",
            "|       1|    9907474.07217695|\n",
            "|       3|1.2281762022109298E7|\n",
            "|       8|              7.67E7|\n",
            "|       2|   9722289.346963465|\n",
            "|       4|2.2864084472737186E7|\n",
            "|       9|           2400000.0|\n",
            "+--------+--------------------+\n",
            "\n"
          ]
        }
      ]
    },
    {
      "cell_type": "code",
      "source": [
        "house_df.groupBy(\"Area\").agg({\"Price\": \"avg\"}).show()"
      ],
      "metadata": {
        "colab": {
          "base_uri": "https://localhost:8080/"
        },
        "id": "rb1nSzTQTSRt",
        "outputId": "65423015-c67e-4e44-dc51-2822604ec5f0"
      },
      "execution_count": null,
      "outputs": [
        {
          "output_type": "stream",
          "name": "stdout",
          "text": [
            "+----+--------------------+\n",
            "|Area|          avg(Price)|\n",
            "+----+--------------------+\n",
            "|1950|1.9180102512820512E7|\n",
            "|2927|               3.1E7|\n",
            "|2040|        1.07981998E7|\n",
            "|1697|   8789666.555555556|\n",
            "|2529|           4100000.0|\n",
            "| 964|            2.3479E7|\n",
            "|1806|             1.238E7|\n",
            "|2250|2.7204945891891893E7|\n",
            "|1224|   8964866.666666666|\n",
            "|1360|   8200722.152777778|\n",
            "|1277|   8142217.391304348|\n",
            "|1258|   6162714.285714285|\n",
            "|1010|   8710637.666666666|\n",
            "|3800| 4.390455544444445E7|\n",
            "|3015|3.2433333333333332E7|\n",
            "|1840|            1.0343E7|\n",
            "| 541|           5468000.0|\n",
            "| 558|           4825000.0|\n",
            "|1145|    9023548.35483871|\n",
            "|1409|        1.29295998E7|\n",
            "+----+--------------------+\n",
            "only showing top 20 rows\n",
            "\n"
          ]
        }
      ]
    },
    {
      "cell_type": "code",
      "source": [
        "train_data, test_data = house_df.randomSplit([0.8, 0.2], seed=123)"
      ],
      "metadata": {
        "id": "bHBtoT_yMdGo"
      },
      "execution_count": null,
      "outputs": []
    },
    {
      "cell_type": "code",
      "source": [
        "assembler = VectorAssembler(inputCols=[\"Bedrooms\", \"City\", \"Area\"], outputCol=\"features\")\n",
        "train_data = assembler.transform(train_data)\n",
        "test_data = assembler.transform(test_data)\n",
        "\n",
        "lr = LinearRegression(featuresCol=\"features\", labelCol=\"Price\")\n",
        "lr_model = lr.fit(train_data)"
      ],
      "metadata": {
        "id": "Wi2vMpP-uAUg"
      },
      "execution_count": null,
      "outputs": []
    },
    {
      "cell_type": "code",
      "source": [
        "predictions = lr_model.transform(test_data)"
      ],
      "metadata": {
        "id": "d_WOY1dbMRsy"
      },
      "execution_count": null,
      "outputs": []
    },
    {
      "cell_type": "code",
      "source": [
        "from pyspark.ml.evaluation import RegressionEvaluator\n",
        "\n",
        "evaluator = RegressionEvaluator(labelCol=\"Price\", predictionCol=\"prediction\", metricName=\"mae\")\n",
        "mae = evaluator.evaluate(predictions)\n",
        "print(\"Mean Absolute Error (MAE):\", mae)\n",
        "\n",
        "mse = evaluator.evaluate(predictions, {evaluator.metricName: \"mse\"})\n",
        "print(\"Mean Squared Error (MSE):\", mse)\n",
        "\n",
        "rmse = evaluator.evaluate(predictions, {evaluator.metricName: \"rmse\"})\n",
        "print(\"Root Mean Squared Error (RMSE):\", rmse)\n",
        "\n",
        "r2 = evaluator.evaluate(predictions, {evaluator.metricName: \"r2\"})\n",
        "print(\"R-squared (R^2) Score:\", r2)\n"
      ],
      "metadata": {
        "colab": {
          "base_uri": "https://localhost:8080/"
        },
        "id": "K_gYt5u6vsfs",
        "outputId": "11131ef8-9cee-47f1-c6d9-4f481224d060"
      },
      "execution_count": null,
      "outputs": [
        {
          "output_type": "stream",
          "name": "stdout",
          "text": [
            "Mean Absolute Error (MAE): 8240229.974782666\n",
            "Mean Squared Error (MSE): 398551842761000.9\n",
            "Root Mean Squared Error (RMSE): 19963763.241458282\n",
            "R-squared (R^2) Score: 0.08609373606114634\n"
          ]
        }
      ]
    },
    {
      "cell_type": "code",
      "source": [],
      "metadata": {
        "id": "iAl1HKWZSa_g"
      },
      "execution_count": null,
      "outputs": []
    },
    {
      "cell_type": "code",
      "source": [
        "# DATA ANALYSIS WITH PYSPARK\n",
        "#dataframe API\n",
        "house_df.describe(\"Price\", \"Area\").show()"
      ],
      "metadata": {
        "colab": {
          "base_uri": "https://localhost:8080/"
        },
        "id": "3Ti4aAYiT8st",
        "outputId": "8b67fa5a-036e-40e5-c1de-cfeb1ba9c143"
      },
      "execution_count": null,
      "outputs": [
        {
          "output_type": "stream",
          "name": "stdout",
          "text": [
            "+-------+--------------------+------------------+\n",
            "|summary|               Price|              Area|\n",
            "+-------+--------------------+------------------+\n",
            "|  count|               29135|             29135|\n",
            "|   mean|1.1952667000034323E7|1301.8164750300325|\n",
            "| stddev| 2.387646511511032E7| 767.8623393376763|\n",
            "|    min|             2000000|               200|\n",
            "|    max|           854599999|             16000|\n",
            "+-------+--------------------+------------------+\n",
            "\n"
          ]
        }
      ]
    },
    {
      "cell_type": "code",
      "source": [
        "price_distribution = house_df.select(\"Price\").toPandas()\n",
        "\n",
        "# Create a histogram of the price distribution\n",
        "plt.figure(figsize=(7, 4))\n",
        "plt.hist(price_distribution['Price'], bins=20, color='skyblue', edgecolor='black')\n",
        "plt.xlabel('Price')\n",
        "plt.ylabel('Frequency')\n",
        "plt.title('Price Distribution')\n",
        "plt.grid(True)\n",
        "plt.show()"
      ],
      "metadata": {
        "colab": {
          "base_uri": "https://localhost:8080/",
          "height": 410
        },
        "id": "9v2vpXyI8v9D",
        "outputId": "20e5f9cb-12fe-433d-b1c1-b784d7b7a4d9"
      },
      "execution_count": null,
      "outputs": [
        {
          "output_type": "display_data",
          "data": {
            "text/plain": [
              "<Figure size 700x400 with 1 Axes>"
            ],
            "image/png": "[encoded data removed]"
          },
          "metadata": {}
        }
      ]
    },
    {
      "cell_type": "code",
      "source": [
        "# SQL API\n",
        "spark.sql(\"\"\"SELECT COUNT(*) AS total_records, AVG(Price) AS avg_price, MEDIAN(Price) AS median_price, STDDEV(Price) AS std_dev_price\n",
        "FROM house_df\"\"\").show()"
      ],
      "metadata": {
        "colab": {
          "base_uri": "https://localhost:8080/"
        },
        "id": "XhLFYtYP63AF",
        "outputId": "28ad5f71-fd26-4574-844d-d44c3fc17259"
      },
      "execution_count": null,
      "outputs": [
        {
          "output_type": "stream",
          "name": "stdout",
          "text": [
            "+-------------+--------------------+------------+-------------------+\n",
            "|total_records|           avg_price|median_price|      std_dev_price|\n",
            "+-------------+--------------------+------------+-------------------+\n",
            "|        29135|1.1952667000034323E7|   6884999.0|2.387646511511032E7|\n",
            "+-------------+--------------------+------------+-------------------+\n",
            "\n"
          ]
        }
      ]
    },
    {
      "cell_type": "code",
      "source": [
        "spark.sql(\"SELECT City, COUNT(*) AS count FROM house_df GROUP BY City\").show()"
      ],
      "metadata": {
        "colab": {
          "base_uri": "https://localhost:8080/"
        },
        "id": "JwbjbfgV7NZ2",
        "outputId": "7bb79ef5-d9f9-4b97-ff4c-d9d3895632de"
      },
      "execution_count": null,
      "outputs": [
        {
          "output_type": "stream",
          "name": "stdout",
          "text": [
            "+----+-----+\n",
            "|City|count|\n",
            "+----+-----+\n",
            "|   1| 5521|\n",
            "|   3| 4109|\n",
            "|   2| 4307|\n",
            "|   4| 1998|\n",
            "|   6| 6925|\n",
            "|   5| 6275|\n",
            "+----+-----+\n",
            "\n"
          ]
        }
      ]
    },
    {
      "cell_type": "code",
      "source": [],
      "metadata": {
        "id": "DGMQ9a8zmbr0"
      },
      "execution_count": null,
      "outputs": []
    }
  ]
}